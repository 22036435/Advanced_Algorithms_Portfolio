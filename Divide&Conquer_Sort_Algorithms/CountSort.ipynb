{
 "cells": [
  {
   "cell_type": "code",
   "execution_count": null,
   "metadata": {},
   "outputs": [],
   "source": [
    "class CountSort:\n",
    "    def __init__(self, array, max_val):\n",
    "        self.array = array\n",
    "        self.max_val = max_val\n",
    "\n",
    "    def sort(self):\n",
    "        #Complexity: O(M), where M is the maximum value in the array\n",
    "        count = [0] * (self.max_val + 1) #Initializing count array of size M+1\n",
    "\n",
    "         #Complexity: O(n), where n is the length of the array\n",
    "        output = [0] * len(self.array)  #Initializing output array of size n\n",
    "\n",
    "        #Complexity: O(n)\n",
    "        for num in self.array:\n",
    "            count[num] += 1\n",
    "\n",
    "        #Complexity: O(M)\n",
    "        for i in range(1, len(count)):\n",
    "            count[i] += count[i - 1]\n",
    "\n",
    "        #Complexity: O(n)\n",
    "        for num in reversed(self.array):\n",
    "            output[count[num] - 1] = num\n",
    "            count[num] -= 1\n",
    "\n",
    "        return output\n",
    "\n",
    "array = [4, 2, 2, 8, 3, 3, 1]\n",
    "max_val = max(array)\n",
    "sorter = CountSort(array, max_val)\n",
    "sorted_array = sorter.sort()\n",
    "print(sorted_array)"
   ]
  }
 ],
 "metadata": {
  "kernelspec": {
   "display_name": "Python 3.11.3 64-bit",
   "language": "python",
   "name": "python3"
  },
  "language_info": {
   "name": "python",
   "version": "3.11.3"
  },
  "orig_nbformat": 4,
  "vscode": {
   "interpreter": {
    "hash": "aee8b7b246df8f9039afb4144a1f6fd8d2ca17a180786b69acc140d282b71a49"
   }
  }
 },
 "nbformat": 4,
 "nbformat_minor": 2
}
